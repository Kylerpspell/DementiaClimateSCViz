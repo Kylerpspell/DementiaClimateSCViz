{
 "cells": [
  {
   "cell_type": "code",
   "execution_count": 28,
   "metadata": {},
   "outputs": [],
   "source": [
    "import json\n",
    "import csv\n",
    "import os"
   ]
  },
  {
   "cell_type": "code",
   "execution_count": 29,
   "metadata": {},
   "outputs": [],
   "source": [
    "jsonDataFiles = []\n",
    "for dirs, subdirs, files in os.walk(\"../data/zipHistory/\"):\n",
    "    for file in files:\n",
    "        if file.endswith(\".json\"):\n",
    "            jsonDataFiles.append(os.path.join(dirs, file))"
   ]
  },
  {
   "cell_type": "code",
   "execution_count": 30,
   "metadata": {},
   "outputs": [],
   "source": [
    "zip2County = {}\n",
    "with open(\"../data./zip2County.csv\") as f:\n",
    "    reader = csv.reader(f)\n",
    "    zip2County = {rows[0]:rows[1] for rows in reader}"
   ]
  },
  {
   "cell_type": "code",
   "execution_count": 31,
   "metadata": {},
   "outputs": [],
   "source": [
    "import math\n",
    "\n",
    "def F2C(temp):\n",
    "    return (temp - 32) * 5/9\n",
    "\n",
    "def getRH(t,d):\n",
    "    return 100 *(math.exp((17.625*d)/(243.04+d))/(math.exp((17.625*t)/(243.04+t))))\n",
    "\n",
    "countyHistory = {}\n",
    "countyHistoryDewPoint = {}\n",
    "countryRH = {}\n",
    "for jsonFile in jsonDataFiles:\n",
    "    with open(jsonFile, 'r') as f:\n",
    "        zipcode = jsonFile.split('/')[-1].split('.')[0]\n",
    "        averageTemp = 0\n",
    "        averageDewPoint = 0\n",
    "        averageRH = 0\n",
    "        numDataPointsTemp = 0\n",
    "        numDataPointsDewPoint = 0\n",
    "        numDataPointsRH = 0\n",
    "        data = json.load(f)\n",
    "        for year in data:\n",
    "            for month in data[year]:\n",
    "                try:\n",
    "                    temp = 0\n",
    "                    if \"High Temp:\" in month and month[\"High Temp:\"][:3].replace('Â','').replace('°','') != '':\n",
    "                        temp = float(month[\"High Temp:\"][:3].replace('Â','').replace('°',''))\n",
    "                        averageTemp += temp\n",
    "                        numDataPointsTemp += 1\n",
    "                    if \"Dewpoint:\" in month and month[\"Dewpoint:\"][:-3].replace('Â','').replace('°',''):\n",
    "                        dewpoint = float(month[\"Dewpoint:\"][:-3].replace('Â','').replace('°',''))\n",
    "                        averageDewPoint += dewpoint\n",
    "                        numDataPointsDewPoint += 1\n",
    "\n",
    "                    if temp != 0 and dewpoint != 0:\n",
    "                        rh = getRH(F2C(temp), F2C(dewpoint))\n",
    "                        averageRH += rh\n",
    "                        numDataPointsRH += 1\n",
    "                except:\n",
    "                    pass\n",
    "        if numDataPointsTemp > 0:\n",
    "            averageTemp /= numDataPointsTemp\n",
    "        if numDataPointsDewPoint > 0:\n",
    "            averageDewPoint /= numDataPointsDewPoint\n",
    "        if numDataPointsRH > 0:\n",
    "            averageRH = averageRH / numDataPointsRH\n",
    "\n",
    "        if (zipcode != ''):\n",
    "            if(zipcode in zip2County):\n",
    "                if zip2County[zipcode] in countyHistory:\n",
    "                    countyHistory[zip2County[zipcode]].append(averageTemp)\n",
    "                else:\n",
    "                    countyHistory[zip2County[zipcode]] = [averageTemp]\n",
    "\n",
    "                if zip2County[zipcode] in countyHistoryDewPoint:\n",
    "                    countyHistoryDewPoint[zip2County[zipcode]].append(averageDewPoint)\n",
    "                else:\n",
    "                    countyHistoryDewPoint[zip2County[zipcode]] = [averageDewPoint]\n",
    "\n",
    "                if zip2County[zipcode] in countryRH:\n",
    "                    countryRH[zip2County[zipcode]].append(averageRH)\n",
    "                else:\n",
    "                    countryRH[zip2County[zipcode]] = [averageRH]"
   ]
  },
  {
   "cell_type": "code",
   "execution_count": 30,
   "metadata": {},
   "outputs": [],
   "source": [
    "with open(\"highTempCounty.csv\",'w',newline='') as f:\n",
    "    writer = csv.writer(f)\n",
    "    writer.writerow([\"County\",\"High Temp\"])\n",
    "    for county in countyHistory:\n",
    "        temp =sum(countyHistory[county])/len(countyHistory[county])\n",
    "        writer.writerow([county, temp])"
   ]
  },
  {
   "cell_type": "code",
   "execution_count": 24,
   "metadata": {},
   "outputs": [],
   "source": [
    "with open(\"dewPointCounty.csv\",'w',newline='') as f:\n",
    "    writer = csv.writer(f)\n",
    "    writer.writerow([\"County\",\"Dew Point\"])\n",
    "    for county in countyHistoryDewPoint:\n",
    "        temp =sum(countyHistoryDewPoint[county])/len(countyHistoryDewPoint[county])\n",
    "        writer.writerow([county, temp])"
   ]
  },
  {
   "cell_type": "code",
   "execution_count": 32,
   "metadata": {},
   "outputs": [],
   "source": [
    "with open(\"RHCounty.csv\",'w',newline='') as f:\n",
    "    writer = csv.writer(f)\n",
    "    writer.writerow([\"County\",\"RH\"])\n",
    "    for county in countryRH:\n",
    "        temp =sum(countryRH[county])/len(countryRH[county])\n",
    "        writer.writerow([county, temp])"
   ]
  }
 ],
 "metadata": {
  "kernelspec": {
   "display_name": "Python 3",
   "language": "python",
   "name": "python3"
  },
  "language_info": {
   "codemirror_mode": {
    "name": "ipython",
    "version": 3
   },
   "file_extension": ".py",
   "mimetype": "text/x-python",
   "name": "python",
   "nbconvert_exporter": "python",
   "pygments_lexer": "ipython3",
   "version": "3.9.6"
  },
  "orig_nbformat": 4
 },
 "nbformat": 4,
 "nbformat_minor": 2
}
