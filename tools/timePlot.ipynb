{
 "cells": [
  {
   "cell_type": "code",
   "execution_count": 1,
   "metadata": {},
   "outputs": [],
   "source": [
    "import csv"
   ]
  },
  {
   "cell_type": "code",
   "execution_count": 2,
   "metadata": {},
   "outputs": [],
   "source": [
    "with open('../data/UseableData.csv','r') as f:\n",
    "\treader = csv.reader(f)\n",
    "\theader = next(reader)\n",
    "\tdata = list(reader)"
   ]
  },
  {
   "cell_type": "code",
   "execution_count": 4,
   "metadata": {},
   "outputs": [],
   "source": [
    "years = {}\n",
    "for row in data:\n",
    "\tyear = row[20]\n",
    "\tif year in years:\n",
    "\t\tyears[year] += 1\n",
    "\telse:\n",
    "\t\tyears[year] = 1"
   ]
  },
  {
   "cell_type": "code",
   "execution_count": 11,
   "metadata": {},
   "outputs": [],
   "source": [
    "sortedYears = sorted(years.items(), key=lambda x: x[0])\n",
    "\n",
    "xs = []\n",
    "ys = []\n",
    "\n",
    "for year in sortedYears:\n",
    "\txs.append(year[0])\n",
    "\tys.append(year[1])"
   ]
  },
  {
   "cell_type": "code",
   "execution_count": 12,
   "metadata": {},
   "outputs": [],
   "source": [
    "with open('dementiaOverTime.csv','w') as f:\n",
    "\twriter = csv.writer(f)\n",
    "\twriter.writerow(['Year','Count'])\n",
    "\tfor i in range(len(xs)):\n",
    "\t\twriter.writerow([xs[i],ys[i]])"
   ]
  },
  {
   "cell_type": "code",
   "execution_count": null,
   "metadata": {},
   "outputs": [],
   "source": []
  }
 ],
 "metadata": {
  "kernelspec": {
   "display_name": "Python 3",
   "language": "python",
   "name": "python3"
  },
  "language_info": {
   "codemirror_mode": {
    "name": "ipython",
    "version": 3
   },
   "file_extension": ".py",
   "mimetype": "text/x-python",
   "name": "python",
   "nbconvert_exporter": "python",
   "pygments_lexer": "ipython3",
   "version": "3.9.6"
  },
  "orig_nbformat": 4
 },
 "nbformat": 4,
 "nbformat_minor": 2
}
