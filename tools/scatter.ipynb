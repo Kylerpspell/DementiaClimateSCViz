{
 "cells": [
  {
   "cell_type": "code",
   "execution_count": 1,
   "metadata": {},
   "outputs": [],
   "source": [
    "import csv"
   ]
  },
  {
   "cell_type": "code",
   "execution_count": 4,
   "metadata": {},
   "outputs": [],
   "source": [
    "with open(\"../data/initalCollection.csv\", \"r\") as f:\n",
    "\treader = csv.reader(f)\n",
    "\theaders = next(reader)\n",
    "\tdata = list(reader)"
   ]
  },
  {
   "cell_type": "code",
   "execution_count": 6,
   "metadata": {},
   "outputs": [],
   "source": [
    "headerToIndex = {}\n",
    "for i in range(len(headers)):\n",
    "\theaderToIndex[headers[i]] = i"
   ]
  },
  {
   "cell_type": "code",
   "execution_count": 7,
   "metadata": {},
   "outputs": [
    {
     "name": "stdout",
     "output_type": "stream",
     "text": [
      "{'\\ufeffCHRONIC10': 0, 'CHRONIC1': 1, 'CHRONIC2': 2, 'CHRONIC8': 3, 'CHRONIC12': 4, 'CHRONIC13': 5, 'CHRONIC9': 6, 'CHRONIC3': 7, 'CHRONIC7': 8, 'CHRONIC6': 9, 'CHRONIC14': 10, 'CHRONIC5': 11, 'CHRONIC16': 12, 'CHRONIC15': 13, 'CHRONIC4': 14, 'SEX0': 15, 'RACE0': 16, 'COUN_RS0': 17, 'ZIP0': 18, 'DEMENTIA': 19, 'YODX': 20, 'DX_AGE': 21, 'ALZHID': 22, '0': 23, 'avgHigh': 24, 'stdDVHigh': 25, 'avgLow': 26, 'stdDVLow': 27, 'avgHighMinusLow': 28, 'stdDVHighMinusLow': 29, 'avgRHHigh': 30, 'stDVRHHighs': 31, 'avgRHLow': 32, 'stdDVRHLow': 33, 'avgRHHighMinusRHLow': 34, 'stdDVRHHighMinusRHLow': 35}\n"
     ]
    }
   ],
   "source": [
    "print(headerToIndex)"
   ]
  },
  {
   "cell_type": "code",
   "execution_count": 10,
   "metadata": {},
   "outputs": [
    {
     "name": "stdout",
     "output_type": "stream",
     "text": [
      "96840\n"
     ]
    }
   ],
   "source": [
    "usefulData = []\n",
    "for row in data:\n",
    "\thigh = float(row[headerToIndex[\"avgHigh\"]])\n",
    "\tRHhigh = float(row[headerToIndex[\"avgRHHigh\"]])\n",
    "\tdementiaType = row[headerToIndex[\"DEMENTIA\"]]\n",
    "\tif high != '' and RHhigh != '' and dementiaType != '':\n",
    "\t\tusefulData.append([high, RHhigh, dementiaType])\n",
    "print(len(usefulData))\n"
   ]
  },
  {
   "cell_type": "code",
   "execution_count": 12,
   "metadata": {},
   "outputs": [],
   "source": [
    "with open('../data/scatter.csv','w') as f:\n",
    "\twriter = csv.writer(f)\n",
    "\twriter.writerow([\"avgHigh\", \"avgRHHigh\", \"DEMENTIA\"])\n",
    "\twriter.writerows(usefulData)"
   ]
  },
  {
   "cell_type": "code",
   "execution_count": null,
   "metadata": {},
   "outputs": [],
   "source": []
  }
 ],
 "metadata": {
  "kernelspec": {
   "display_name": "Python 3",
   "language": "python",
   "name": "python3"
  },
  "language_info": {
   "codemirror_mode": {
    "name": "ipython",
    "version": 3
   },
   "file_extension": ".py",
   "mimetype": "text/x-python",
   "name": "python",
   "nbconvert_exporter": "python",
   "pygments_lexer": "ipython3",
   "version": "3.9.6"
  },
  "orig_nbformat": 4
 },
 "nbformat": 4,
 "nbformat_minor": 2
}
